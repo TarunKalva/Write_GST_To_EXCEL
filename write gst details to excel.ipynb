{
 "cells": [
  {
   "cell_type": "code",
   "execution_count": 8,
   "metadata": {},
   "outputs": [],
   "source": [
    "import xlrd\n",
    "import xlwt\n",
    "import os\n",
    "from termcolor import colored\n",
    "# TO MOVE TO THE REQUIRED DIRECTORY\n",
    "os.chdir('C:/Users/abc/Desktop/SHEKAR 22-23') # Enter the path here and change '\\' to '/'\n",
    "path=os.getcwd()\n",
    "# CREATE A NEW WORKBOOK AND THEN CREATE A NEW SHEET\n",
    "new_wbk=xlwt.Workbook()\n",
    "new_sheet=new_wbk.add_sheet('April')\n",
    "list_of_files = os.listdir(path) # LISTDIR IS USED TO CONVERT THE FILES IN PATH TO LIST OF FILES\n",
    "col=1   \n",
    "style_string=\"font: bold on\"\n",
    "style = xlwt.easyxf(style_string)\n",
    "new_sheet.write(0,0,'NO',style=style)\n",
    "new_sheet.write(0,1,'DATE',style=style)\n",
    "new_sheet.write(0,2,'COMPANY NAME',style=style)\n",
    "new_sheet.write(0,3,'GSTIN',style=style)\n",
    "new_sheet.write(0,4,'STATE',style=style)\n",
    "new_sheet.write(0,5,'TAXABLE VALUE',style=style)\n",
    "new_sheet.write(0,6,'IGST',style=style)\n",
    "new_sheet.write(0,7,'CGST',style=style)\n",
    "new_sheet.write(0,8,'SGST',style=style)\n",
    "new_sheet.write(0,9,'TOTAL VALUE',style=style)\n",
    "new_sheet.write(0,10,'QUANTITY',style=style)\n",
    "new_sheet.write(0,11,'UNIT',style=style)\n",
    "for i in list_of_files:\n",
    "    workbook=xlrd.open_workbook(i)\n",
    "    sheet=workbook.sheet_by_index(0)\n",
    "    if int((sheet.cell_value(12,8).split(':')[1]).split('-')[1])!=4: #Enter the month number e.g: 4\n",
    "        continue\n",
    "    else:\n",
    "        new_sheet.write(col,0,sheet.cell_value(10,0).split(':')[1])\n",
    "        new_sheet.write(col,1,sheet.cell_value(11,0).split(':')[1].strip())\n",
    "        new_sheet.write(col,2,sheet.cell_value(16,0).split(':')[1])\n",
    "        if sheet.cell_value(21,0)=='SELF USE':\n",
    "            new_sheet.write(col,3,sheet.cell_value(21,0).split(':'))\n",
    "        else:\n",
    "            new_sheet.write(col,3,sheet.cell_value(21,0).split(':')[1])\n",
    "        new_sheet.write(col,4,sheet.cell_value(22,0).split(':')[1])\n",
    "        new_sheet.write(col,5,sheet.cell_value(38,14))\n",
    "        new_sheet.write(col,10,sheet.cell_value(26,5))\n",
    "        new_sheet.write(col,11,sheet.cell_value(27,5))\n",
    "        if sheet.cell_value(22,7)==36:\n",
    "            new_sheet.write(col,7,sheet.cell_value(39,14))\n",
    "            new_sheet.write(col,8,sheet.cell_value(40,14))\n",
    "            new_sheet.write(col,9,sheet.cell_value(41,14))\n",
    "        else:    \n",
    "            new_sheet.write(col,6,sheet.cell_value(39,14))\n",
    "            new_sheet.write(col,9,sheet.cell_value(40,14))\n",
    "    col=col+1\n",
    "new_wbk.save('gst1 details.xls') "
   ]
  },
  {
   "cell_type": "code",
   "execution_count": 2,
   "metadata": {},
   "outputs": [
    {
     "name": "stdout",
     "output_type": "stream",
     "text": [
      "['NEW 01.xls', 'NEW 02.xls', 'NEW 03.xls', 'NEW 04.xls', 'NEW 05.xls', 'NEW 06.xls', 'NEW 07.xls', 'NEW 08.xls', 'NEW 09.xls', 'NEW 10.xls', 'NEW 100.xls', 'NEW 101.xls', 'NEW 102.xls', 'NEW 103.xls', 'NEW 104.xls', 'NEW 105.xls', 'NEW 106.xls', 'NEW 107.xls', 'NEW 108.xls', 'NEW 109.xls', 'NEW 11.xls', 'NEW 110.xls', 'NEW 111.xls', 'NEW 112.xls', 'NEW 113.xls', 'NEW 114.xls', 'NEW 115 TELANGANA.xls', 'NEW 116.xls', 'NEW 117.xls', 'NEW 118 TELANGANA.xls', 'NEW 119.xls', 'NEW 12.xls', 'NEW 120.xls', 'NEW 121.xls', 'NEW 122.xls', 'NEW 123.xls', 'NEW 124.xls', 'NEW 125 TELANGANA.xls', 'NEW 126.xls', 'NEW 127.xls', 'NEW 128.xls', 'NEW 129.xls', 'NEW 13.xls', 'NEW 130.xls', 'NEW 131.xls', 'NEW 132.xls', 'NEW 133.xls', 'NEW 134.xls', 'NEW 135.xls', 'NEW 136.xls', 'NEW 137.xls', 'NEW 138.xls', 'NEW 139.xls', 'NEW 14.xls', 'NEW 140.xls', 'NEW 141.xls', 'NEW 142.xls', 'NEW 143.xls', 'NEW 144.xls', 'NEW 145.xls', 'NEW 146.xls', 'NEW 147.xls', 'NEW 148.xls', 'NEW 149.xls', 'NEW 15.xls', 'NEW 150.xls', 'NEW 151.xls', 'NEW 152.xls', 'NEW 153.xls', 'NEW 154.xls', 'NEW 155.xls', 'NEW 156.xls', 'NEW 157.xls', 'NEW 158 TELANGANA.xls', 'NEW 159.xls', 'NEW 16.xls', 'NEW 160.xls', 'NEW 161.xls', 'NEW 162.xls', 'NEW 163.xls', 'NEW 164.xls', 'NEW 165.xls', 'NEW 166.xls', 'NEW 167.xls', 'NEW 168.xls', 'NEW 169.xls', 'NEW 17.xls', 'NEW 170.xls', 'NEW 171.xls', 'NEW 172.xls', 'NEW 173.xls', 'NEW 174.xls', 'NEW 175.xls', 'NEW 176.xls', 'NEW 177.xls', 'NEW 178.xls', 'NEW 179.xls', 'NEW 18.xls', 'NEW 180.xls', 'NEW 181.xls', 'NEW 182.xls', 'NEW 183.xls', 'NEW 184.xls', 'NEW 185.xls', 'NEW 186.xls', 'NEW 187.xls', 'NEW 188.xls', 'NEW 189.xls', 'NEW 19.xls', 'NEW 190.xls', 'NEW 191.xls', 'NEW 192.xls', 'NEW 193.xls', 'NEW 194.xls', 'NEW 195.xls', 'NEW 196.xls', 'NEW 197.xls', 'NEW 198.xls', 'NEW 199.xls', 'NEW 20.xls', 'NEW 200.xls', 'NEW 201.xls', 'NEW 202.xls', 'NEW 203.xls', 'NEW 204 TELANGANA.xls', 'NEW 205.xls', 'NEW 206.xls', 'NEW 207.xls', 'NEW 208.xls', 'NEW 21.xls', 'NEW 22.xls', 'NEW 23.xls', 'NEW 24.xls', 'NEW 25.xls', 'NEW 26.xls', 'NEW 27.xls', 'NEW 28.xls', 'NEW 29.xls', 'NEW 30.xls', 'NEW 31.xls', 'NEW 32.xls', 'NEW 33.xls', 'NEW 34.xls', 'NEW 35.xls', 'NEW 36.xls', 'NEW 37.xls', 'NEW 38.xls', 'NEW 39.xls', 'NEW 40.xls', 'NEW 41.xls', 'NEW 42.xls', 'NEW 43.xls', 'NEW 44.xls', 'NEW 45.xls', 'NEW 46.xls', 'NEW 47.xls', 'NEW 48.xls', 'NEW 49.xls', 'NEW 50.xls', 'NEW 51.xls', 'NEW 52.xls', 'NEW 53.xls', 'NEW 54.xls', 'NEW 55.xls', 'NEW 56.xls', 'NEW 57.xls', 'NEW 58.xls', 'NEW 59.xls', 'NEW 60.xls', 'NEW 61.xls', 'NEW 62.xls', 'NEW 63.xls', 'NEW 64.xls', 'NEW 65.xls', 'NEW 66.xls', 'NEW 67 TELANGANA.xls', 'NEW 68.xls', 'NEW 69.xls', 'NEW 70.xls', 'NEW 71.xls', 'NEW 72.xls', 'NEW 73 TELANGANA.xls', 'NEW 74.xls', 'NEW 75.xls', 'NEW 76.xls', 'NEW 77.xls', 'NEW 78.xls', 'NEW 79.xls', 'NEW 80.xls', 'NEW 81.xls', 'NEW 82.xls', 'NEW 83.xls', 'NEW 84.xls', 'NEW 85.xls', 'NEW 86.xls', 'NEW 87.xls', 'NEW 88.xls', 'NEW 89.xls', 'NEW 90.xls', 'NEW 91.xls', 'NEW 92.xls', 'NEW 93.xls', 'NEW 94.xls', 'NEW 95.xls', 'NEW 96.xls', 'NEW 97.xls', 'NEW 98 TELANGANA.xls', 'NEW 99.xls']\n"
     ]
    }
   ],
   "source": [
    "print(list_of_files)"
   ]
  },
  {
   "cell_type": "code",
   "execution_count": null,
   "metadata": {},
   "outputs": [],
   "source": []
  },
  {
   "cell_type": "code",
   "execution_count": null,
   "metadata": {},
   "outputs": [],
   "source": []
  },
  {
   "cell_type": "code",
   "execution_count": null,
   "metadata": {},
   "outputs": [],
   "source": []
  },
  {
   "cell_type": "code",
   "execution_count": null,
   "metadata": {},
   "outputs": [],
   "source": []
  }
 ],
 "metadata": {
  "kernelspec": {
   "display_name": "Python 3",
   "language": "python",
   "name": "python3"
  },
  "language_info": {
   "codemirror_mode": {
    "name": "ipython",
    "version": 3
   },
   "file_extension": ".py",
   "mimetype": "text/x-python",
   "name": "python",
   "nbconvert_exporter": "python",
   "pygments_lexer": "ipython3",
   "version": "3.8.5"
  }
 },
 "nbformat": 4,
 "nbformat_minor": 4
}
